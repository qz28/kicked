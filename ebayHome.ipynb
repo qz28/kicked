{
 "cells": [
  {
   "cell_type": "code",
   "execution_count": 1,
   "metadata": {
    "collapsed": true
   },
   "outputs": [],
   "source": [
    "import pandas as pd\n",
    "import numpy as np\n",
    "import os"
   ]
  },
  {
   "cell_type": "markdown",
   "metadata": {},
   "source": [
    "# Reading Dataset"
   ]
  },
  {
   "cell_type": "code",
   "execution_count": 2,
   "metadata": {
    "collapsed": true
   },
   "outputs": [],
   "source": [
    "locpath=\".\\\\data\""
   ]
  },
  {
   "cell_type": "code",
   "execution_count": 3,
   "metadata": {
    "collapsed": false
   },
   "outputs": [
    {
     "data": {
      "text/html": [
       "<div>\n",
       "<table border=\"1\" class=\"dataframe\">\n",
       "  <thead>\n",
       "    <tr style=\"text-align: right;\">\n",
       "      <th></th>\n",
       "      <th>IsBadBuy</th>\n",
       "      <th>PurchDate</th>\n",
       "      <th>Auction</th>\n",
       "      <th>VehYear</th>\n",
       "      <th>VehicleAge</th>\n",
       "      <th>Make</th>\n",
       "      <th>Model</th>\n",
       "      <th>Trim</th>\n",
       "      <th>SubModel</th>\n",
       "      <th>Color</th>\n",
       "      <th>...</th>\n",
       "      <th>MMRCurrentRetailAveragePrice</th>\n",
       "      <th>MMRCurrentRetailCleanPrice</th>\n",
       "      <th>PRIMEUNIT</th>\n",
       "      <th>AUCGUART</th>\n",
       "      <th>BYRNO</th>\n",
       "      <th>VNZIP1</th>\n",
       "      <th>VNST</th>\n",
       "      <th>VehBCost</th>\n",
       "      <th>IsOnlineSale</th>\n",
       "      <th>WarrantyCost</th>\n",
       "    </tr>\n",
       "    <tr>\n",
       "      <th>RefId</th>\n",
       "      <th></th>\n",
       "      <th></th>\n",
       "      <th></th>\n",
       "      <th></th>\n",
       "      <th></th>\n",
       "      <th></th>\n",
       "      <th></th>\n",
       "      <th></th>\n",
       "      <th></th>\n",
       "      <th></th>\n",
       "      <th></th>\n",
       "      <th></th>\n",
       "      <th></th>\n",
       "      <th></th>\n",
       "      <th></th>\n",
       "      <th></th>\n",
       "      <th></th>\n",
       "      <th></th>\n",
       "      <th></th>\n",
       "      <th></th>\n",
       "      <th></th>\n",
       "    </tr>\n",
       "  </thead>\n",
       "  <tbody>\n",
       "    <tr>\n",
       "      <th>1</th>\n",
       "      <td>0</td>\n",
       "      <td>12/7/2009</td>\n",
       "      <td>ADESA</td>\n",
       "      <td>2006</td>\n",
       "      <td>3</td>\n",
       "      <td>MAZDA</td>\n",
       "      <td>MAZDA3</td>\n",
       "      <td>i</td>\n",
       "      <td>4D SEDAN I</td>\n",
       "      <td>RED</td>\n",
       "      <td>...</td>\n",
       "      <td>11597.0</td>\n",
       "      <td>12409.0</td>\n",
       "      <td>NaN</td>\n",
       "      <td>NaN</td>\n",
       "      <td>21973</td>\n",
       "      <td>33619</td>\n",
       "      <td>FL</td>\n",
       "      <td>7100.0</td>\n",
       "      <td>0</td>\n",
       "      <td>1113</td>\n",
       "    </tr>\n",
       "    <tr>\n",
       "      <th>2</th>\n",
       "      <td>0</td>\n",
       "      <td>12/7/2009</td>\n",
       "      <td>ADESA</td>\n",
       "      <td>2004</td>\n",
       "      <td>5</td>\n",
       "      <td>DODGE</td>\n",
       "      <td>1500 RAM PICKUP 2WD</td>\n",
       "      <td>ST</td>\n",
       "      <td>QUAD CAB 4.7L SLT</td>\n",
       "      <td>WHITE</td>\n",
       "      <td>...</td>\n",
       "      <td>11374.0</td>\n",
       "      <td>12791.0</td>\n",
       "      <td>NaN</td>\n",
       "      <td>NaN</td>\n",
       "      <td>19638</td>\n",
       "      <td>33619</td>\n",
       "      <td>FL</td>\n",
       "      <td>7600.0</td>\n",
       "      <td>0</td>\n",
       "      <td>1053</td>\n",
       "    </tr>\n",
       "    <tr>\n",
       "      <th>3</th>\n",
       "      <td>0</td>\n",
       "      <td>12/7/2009</td>\n",
       "      <td>ADESA</td>\n",
       "      <td>2005</td>\n",
       "      <td>4</td>\n",
       "      <td>DODGE</td>\n",
       "      <td>STRATUS V6</td>\n",
       "      <td>SXT</td>\n",
       "      <td>4D SEDAN SXT FFV</td>\n",
       "      <td>MAROON</td>\n",
       "      <td>...</td>\n",
       "      <td>7146.0</td>\n",
       "      <td>8702.0</td>\n",
       "      <td>NaN</td>\n",
       "      <td>NaN</td>\n",
       "      <td>19638</td>\n",
       "      <td>33619</td>\n",
       "      <td>FL</td>\n",
       "      <td>4900.0</td>\n",
       "      <td>0</td>\n",
       "      <td>1389</td>\n",
       "    </tr>\n",
       "    <tr>\n",
       "      <th>4</th>\n",
       "      <td>0</td>\n",
       "      <td>12/7/2009</td>\n",
       "      <td>ADESA</td>\n",
       "      <td>2004</td>\n",
       "      <td>5</td>\n",
       "      <td>DODGE</td>\n",
       "      <td>NEON</td>\n",
       "      <td>SXT</td>\n",
       "      <td>4D SEDAN</td>\n",
       "      <td>SILVER</td>\n",
       "      <td>...</td>\n",
       "      <td>4375.0</td>\n",
       "      <td>5518.0</td>\n",
       "      <td>NaN</td>\n",
       "      <td>NaN</td>\n",
       "      <td>19638</td>\n",
       "      <td>33619</td>\n",
       "      <td>FL</td>\n",
       "      <td>4100.0</td>\n",
       "      <td>0</td>\n",
       "      <td>630</td>\n",
       "    </tr>\n",
       "    <tr>\n",
       "      <th>5</th>\n",
       "      <td>0</td>\n",
       "      <td>12/7/2009</td>\n",
       "      <td>ADESA</td>\n",
       "      <td>2005</td>\n",
       "      <td>4</td>\n",
       "      <td>FORD</td>\n",
       "      <td>FOCUS</td>\n",
       "      <td>ZX3</td>\n",
       "      <td>2D COUPE ZX3</td>\n",
       "      <td>SILVER</td>\n",
       "      <td>...</td>\n",
       "      <td>6739.0</td>\n",
       "      <td>7911.0</td>\n",
       "      <td>NaN</td>\n",
       "      <td>NaN</td>\n",
       "      <td>19638</td>\n",
       "      <td>33619</td>\n",
       "      <td>FL</td>\n",
       "      <td>4000.0</td>\n",
       "      <td>0</td>\n",
       "      <td>1020</td>\n",
       "    </tr>\n",
       "  </tbody>\n",
       "</table>\n",
       "<p>5 rows × 33 columns</p>\n",
       "</div>"
      ],
      "text/plain": [
       "       IsBadBuy  PurchDate Auction  VehYear  VehicleAge   Make  \\\n",
       "RefId                                                            \n",
       "1             0  12/7/2009   ADESA     2006           3  MAZDA   \n",
       "2             0  12/7/2009   ADESA     2004           5  DODGE   \n",
       "3             0  12/7/2009   ADESA     2005           4  DODGE   \n",
       "4             0  12/7/2009   ADESA     2004           5  DODGE   \n",
       "5             0  12/7/2009   ADESA     2005           4   FORD   \n",
       "\n",
       "                     Model Trim           SubModel   Color      ...       \\\n",
       "RefId                                                           ...        \n",
       "1                   MAZDA3    i         4D SEDAN I     RED      ...        \n",
       "2      1500 RAM PICKUP 2WD   ST  QUAD CAB 4.7L SLT   WHITE      ...        \n",
       "3               STRATUS V6  SXT   4D SEDAN SXT FFV  MAROON      ...        \n",
       "4                     NEON  SXT           4D SEDAN  SILVER      ...        \n",
       "5                    FOCUS  ZX3       2D COUPE ZX3  SILVER      ...        \n",
       "\n",
       "      MMRCurrentRetailAveragePrice  MMRCurrentRetailCleanPrice PRIMEUNIT  \\\n",
       "RefId                                                                      \n",
       "1                          11597.0                     12409.0       NaN   \n",
       "2                          11374.0                     12791.0       NaN   \n",
       "3                           7146.0                      8702.0       NaN   \n",
       "4                           4375.0                      5518.0       NaN   \n",
       "5                           6739.0                      7911.0       NaN   \n",
       "\n",
       "       AUCGUART  BYRNO VNZIP1 VNST  VehBCost  IsOnlineSale  WarrantyCost  \n",
       "RefId                                                                     \n",
       "1           NaN  21973  33619   FL    7100.0             0          1113  \n",
       "2           NaN  19638  33619   FL    7600.0             0          1053  \n",
       "3           NaN  19638  33619   FL    4900.0             0          1389  \n",
       "4           NaN  19638  33619   FL    4100.0             0           630  \n",
       "5           NaN  19638  33619   FL    4000.0             0          1020  \n",
       "\n",
       "[5 rows x 33 columns]"
      ]
     },
     "execution_count": 3,
     "metadata": {},
     "output_type": "execute_result"
    }
   ],
   "source": [
    "train=pd.read_csv(os.path.join(locpath, \"training.csv\"),index_col=0)\n",
    "train.head()"
   ]
  },
  {
   "cell_type": "code",
   "execution_count": 4,
   "metadata": {
    "collapsed": false
   },
   "outputs": [
    {
     "data": {
      "text/html": [
       "<div>\n",
       "<table border=\"1\" class=\"dataframe\">\n",
       "  <thead>\n",
       "    <tr style=\"text-align: right;\">\n",
       "      <th></th>\n",
       "      <th>PurchDate</th>\n",
       "      <th>Auction</th>\n",
       "      <th>VehYear</th>\n",
       "      <th>VehicleAge</th>\n",
       "      <th>Make</th>\n",
       "      <th>Model</th>\n",
       "      <th>Trim</th>\n",
       "      <th>SubModel</th>\n",
       "      <th>Color</th>\n",
       "      <th>Transmission</th>\n",
       "      <th>...</th>\n",
       "      <th>MMRCurrentRetailAveragePrice</th>\n",
       "      <th>MMRCurrentRetailCleanPrice</th>\n",
       "      <th>PRIMEUNIT</th>\n",
       "      <th>AUCGUART</th>\n",
       "      <th>BYRNO</th>\n",
       "      <th>VNZIP1</th>\n",
       "      <th>VNST</th>\n",
       "      <th>VehBCost</th>\n",
       "      <th>IsOnlineSale</th>\n",
       "      <th>WarrantyCost</th>\n",
       "    </tr>\n",
       "    <tr>\n",
       "      <th>RefId</th>\n",
       "      <th></th>\n",
       "      <th></th>\n",
       "      <th></th>\n",
       "      <th></th>\n",
       "      <th></th>\n",
       "      <th></th>\n",
       "      <th></th>\n",
       "      <th></th>\n",
       "      <th></th>\n",
       "      <th></th>\n",
       "      <th></th>\n",
       "      <th></th>\n",
       "      <th></th>\n",
       "      <th></th>\n",
       "      <th></th>\n",
       "      <th></th>\n",
       "      <th></th>\n",
       "      <th></th>\n",
       "      <th></th>\n",
       "      <th></th>\n",
       "      <th></th>\n",
       "    </tr>\n",
       "  </thead>\n",
       "  <tbody>\n",
       "    <tr>\n",
       "      <th>73015</th>\n",
       "      <td>12/2/2009</td>\n",
       "      <td>ADESA</td>\n",
       "      <td>2005</td>\n",
       "      <td>4</td>\n",
       "      <td>PONTIAC</td>\n",
       "      <td>GRAND PRIX</td>\n",
       "      <td>Bas</td>\n",
       "      <td>4D SEDAN</td>\n",
       "      <td>SILVER</td>\n",
       "      <td>AUTO</td>\n",
       "      <td>...</td>\n",
       "      <td>8557.0</td>\n",
       "      <td>9752.0</td>\n",
       "      <td>NaN</td>\n",
       "      <td>NaN</td>\n",
       "      <td>18881</td>\n",
       "      <td>30212</td>\n",
       "      <td>GA</td>\n",
       "      <td>6500.0</td>\n",
       "      <td>0</td>\n",
       "      <td>2152</td>\n",
       "    </tr>\n",
       "    <tr>\n",
       "      <th>73016</th>\n",
       "      <td>12/2/2009</td>\n",
       "      <td>ADESA</td>\n",
       "      <td>2005</td>\n",
       "      <td>4</td>\n",
       "      <td>CHEVROLET</td>\n",
       "      <td>MALIBU V6</td>\n",
       "      <td>LS</td>\n",
       "      <td>4D SEDAN LS</td>\n",
       "      <td>SILVER</td>\n",
       "      <td>AUTO</td>\n",
       "      <td>...</td>\n",
       "      <td>7562.0</td>\n",
       "      <td>9296.0</td>\n",
       "      <td>NaN</td>\n",
       "      <td>NaN</td>\n",
       "      <td>18111</td>\n",
       "      <td>30212</td>\n",
       "      <td>GA</td>\n",
       "      <td>6300.0</td>\n",
       "      <td>0</td>\n",
       "      <td>1118</td>\n",
       "    </tr>\n",
       "    <tr>\n",
       "      <th>73017</th>\n",
       "      <td>12/2/2009</td>\n",
       "      <td>ADESA</td>\n",
       "      <td>2006</td>\n",
       "      <td>3</td>\n",
       "      <td>DODGE</td>\n",
       "      <td>DURANGO 2WD V8</td>\n",
       "      <td>Adv</td>\n",
       "      <td>4D SUV 4.7L ADVENTURER</td>\n",
       "      <td>SILVER</td>\n",
       "      <td>AUTO</td>\n",
       "      <td>...</td>\n",
       "      <td>15340.0</td>\n",
       "      <td>16512.0</td>\n",
       "      <td>NaN</td>\n",
       "      <td>NaN</td>\n",
       "      <td>18111</td>\n",
       "      <td>30212</td>\n",
       "      <td>GA</td>\n",
       "      <td>9700.0</td>\n",
       "      <td>0</td>\n",
       "      <td>1215</td>\n",
       "    </tr>\n",
       "    <tr>\n",
       "      <th>73018</th>\n",
       "      <td>12/2/2009</td>\n",
       "      <td>ADESA</td>\n",
       "      <td>2002</td>\n",
       "      <td>7</td>\n",
       "      <td>SATURN</td>\n",
       "      <td>L SERIES</td>\n",
       "      <td>L20</td>\n",
       "      <td>4D SEDAN L200</td>\n",
       "      <td>GOLD</td>\n",
       "      <td>AUTO</td>\n",
       "      <td>...</td>\n",
       "      <td>5725.0</td>\n",
       "      <td>6398.0</td>\n",
       "      <td>NaN</td>\n",
       "      <td>NaN</td>\n",
       "      <td>18881</td>\n",
       "      <td>30212</td>\n",
       "      <td>GA</td>\n",
       "      <td>4150.0</td>\n",
       "      <td>0</td>\n",
       "      <td>1933</td>\n",
       "    </tr>\n",
       "    <tr>\n",
       "      <th>73019</th>\n",
       "      <td>12/2/2009</td>\n",
       "      <td>ADESA</td>\n",
       "      <td>2007</td>\n",
       "      <td>2</td>\n",
       "      <td>HYUNDAI</td>\n",
       "      <td>ACCENT</td>\n",
       "      <td>GS</td>\n",
       "      <td>2D COUPE GS</td>\n",
       "      <td>BLUE</td>\n",
       "      <td>AUTO</td>\n",
       "      <td>...</td>\n",
       "      <td>5914.0</td>\n",
       "      <td>7350.0</td>\n",
       "      <td>NaN</td>\n",
       "      <td>NaN</td>\n",
       "      <td>18111</td>\n",
       "      <td>30212</td>\n",
       "      <td>GA</td>\n",
       "      <td>4100.0</td>\n",
       "      <td>0</td>\n",
       "      <td>920</td>\n",
       "    </tr>\n",
       "  </tbody>\n",
       "</table>\n",
       "<p>5 rows × 32 columns</p>\n",
       "</div>"
      ],
      "text/plain": [
       "       PurchDate Auction  VehYear  VehicleAge       Make           Model Trim  \\\n",
       "RefId                                                                           \n",
       "73015  12/2/2009   ADESA     2005           4    PONTIAC      GRAND PRIX  Bas   \n",
       "73016  12/2/2009   ADESA     2005           4  CHEVROLET       MALIBU V6   LS   \n",
       "73017  12/2/2009   ADESA     2006           3      DODGE  DURANGO 2WD V8  Adv   \n",
       "73018  12/2/2009   ADESA     2002           7     SATURN        L SERIES  L20   \n",
       "73019  12/2/2009   ADESA     2007           2    HYUNDAI          ACCENT   GS   \n",
       "\n",
       "                     SubModel   Color Transmission      ...       \\\n",
       "RefId                                                   ...        \n",
       "73015                4D SEDAN  SILVER         AUTO      ...        \n",
       "73016             4D SEDAN LS  SILVER         AUTO      ...        \n",
       "73017  4D SUV 4.7L ADVENTURER  SILVER         AUTO      ...        \n",
       "73018           4D SEDAN L200    GOLD         AUTO      ...        \n",
       "73019             2D COUPE GS    BLUE         AUTO      ...        \n",
       "\n",
       "       MMRCurrentRetailAveragePrice MMRCurrentRetailCleanPrice  PRIMEUNIT  \\\n",
       "RefId                                                                       \n",
       "73015                        8557.0                     9752.0        NaN   \n",
       "73016                        7562.0                     9296.0        NaN   \n",
       "73017                       15340.0                    16512.0        NaN   \n",
       "73018                        5725.0                     6398.0        NaN   \n",
       "73019                        5914.0                     7350.0        NaN   \n",
       "\n",
       "      AUCGUART  BYRNO VNZIP1  VNST  VehBCost  IsOnlineSale  WarrantyCost  \n",
       "RefId                                                                     \n",
       "73015      NaN  18881  30212    GA    6500.0             0          2152  \n",
       "73016      NaN  18111  30212    GA    6300.0             0          1118  \n",
       "73017      NaN  18111  30212    GA    9700.0             0          1215  \n",
       "73018      NaN  18881  30212    GA    4150.0             0          1933  \n",
       "73019      NaN  18111  30212    GA    4100.0             0           920  \n",
       "\n",
       "[5 rows x 32 columns]"
      ]
     },
     "execution_count": 4,
     "metadata": {},
     "output_type": "execute_result"
    }
   ],
   "source": [
    "test=pd.read_csv(os.path.join(locpath, \"test.csv\"),index_col=0)\n",
    "test.head()"
   ]
  },
  {
   "cell_type": "code",
   "execution_count": 5,
   "metadata": {
    "collapsed": false
   },
   "outputs": [
    {
     "data": {
      "text/plain": [
       "(72983, 33)"
      ]
     },
     "execution_count": 5,
     "metadata": {},
     "output_type": "execute_result"
    }
   ],
   "source": [
    "train.shape"
   ]
  },
  {
   "cell_type": "code",
   "execution_count": 6,
   "metadata": {
    "collapsed": false
   },
   "outputs": [
    {
     "data": {
      "text/plain": [
       "(48707, 32)"
      ]
     },
     "execution_count": 6,
     "metadata": {},
     "output_type": "execute_result"
    }
   ],
   "source": [
    "test.shape"
   ]
  },
  {
   "cell_type": "code",
   "execution_count": 7,
   "metadata": {
    "collapsed": false
   },
   "outputs": [
    {
     "data": {
      "text/plain": [
       "(72983, 32)"
      ]
     },
     "execution_count": 7,
     "metadata": {},
     "output_type": "execute_result"
    }
   ],
   "source": [
    "y=train[\"IsBadBuy\"]\n",
    "X=train.drop(\"IsBadBuy\", axis=1)\n",
    "X.shape"
   ]
  },
  {
   "cell_type": "markdown",
   "metadata": {},
   "source": [
    "# Inspecting Dataset"
   ]
  },
  {
   "cell_type": "code",
   "execution_count": 8,
   "metadata": {
    "collapsed": false
   },
   "outputs": [
    {
     "data": {
      "text/plain": [
       "0.12298754504473644"
      ]
     },
     "execution_count": 8,
     "metadata": {},
     "output_type": "execute_result"
    }
   ],
   "source": [
    "y.sum()/len(y) #a little bit imbalanced class"
   ]
  },
  {
   "cell_type": "code",
   "execution_count": 9,
   "metadata": {
    "collapsed": false
   },
   "outputs": [],
   "source": [
    "X=pd.concat([X,test],axis=0)"
   ]
  },
  {
   "cell_type": "code",
   "execution_count": 10,
   "metadata": {
    "collapsed": false
   },
   "outputs": [
    {
     "data": {
      "text/plain": [
       "PurchDate                            0.000000\n",
       "Auction                              0.000000\n",
       "VehYear                              0.000000\n",
       "VehicleAge                           0.000000\n",
       "Make                                 0.000000\n",
       "Model                                0.000000\n",
       "Trim                                 0.032131\n",
       "SubModel                             0.000107\n",
       "Color                                0.000099\n",
       "Transmission                         0.000099\n",
       "WheelTypeID                          0.044022\n",
       "WheelType                            0.044063\n",
       "VehOdo                               0.000000\n",
       "Nationality                          0.000099\n",
       "Size                                 0.000099\n",
       "TopThreeAmericanName                 0.000099\n",
       "MMRAcquisitionAuctionAveragePrice    0.000230\n",
       "MMRAcquisitionAuctionCleanPrice      0.000230\n",
       "MMRAcquisitionRetailAveragePrice     0.000230\n",
       "MMRAcquisitonRetailCleanPrice        0.000230\n",
       "MMRCurrentAuctionAveragePrice        0.003764\n",
       "MMRCurrentAuctionCleanPrice          0.003764\n",
       "MMRCurrentRetailAveragePrice         0.003764\n",
       "MMRCurrentRetailCleanPrice           0.003764\n",
       "PRIMEUNIT                            0.951229\n",
       "AUCGUART                             0.951229\n",
       "BYRNO                                0.000000\n",
       "VNZIP1                               0.000000\n",
       "VNST                                 0.000000\n",
       "VehBCost                             0.000000\n",
       "IsOnlineSale                         0.000000\n",
       "WarrantyCost                         0.000000\n",
       "dtype: float64"
      ]
     },
     "execution_count": 10,
     "metadata": {},
     "output_type": "execute_result"
    }
   ],
   "source": [
    "X.isnull().sum()/X.shape[0] #proportion of missing values for each feature"
   ]
  },
  {
   "cell_type": "code",
   "execution_count": 11,
   "metadata": {
    "collapsed": false
   },
   "outputs": [
    {
     "data": {
      "text/plain": [
       "PurchDate                              519\n",
       "Auction                                  3\n",
       "VehYear                                 10\n",
       "VehicleAge                              10\n",
       "Make                                    33\n",
       "Model                                 1130\n",
       "Trim                                   137\n",
       "SubModel                               933\n",
       "Color                                   17\n",
       "Transmission                             3\n",
       "WheelTypeID                              4\n",
       "WheelType                                3\n",
       "VehOdo                               49813\n",
       "Nationality                              4\n",
       "Size                                    12\n",
       "TopThreeAmericanName                     4\n",
       "MMRAcquisitionAuctionAveragePrice    11240\n",
       "MMRAcquisitionAuctionCleanPrice      12406\n",
       "MMRAcquisitionRetailAveragePrice     13827\n",
       "MMRAcquisitonRetailCleanPrice        14782\n",
       "MMRCurrentAuctionAveragePrice        11203\n",
       "MMRCurrentAuctionCleanPrice          12318\n",
       "MMRCurrentRetailAveragePrice         13672\n",
       "MMRCurrentRetailCleanPrice           14528\n",
       "PRIMEUNIT                                2\n",
       "AUCGUART                                 2\n",
       "BYRNO                                   79\n",
       "VNZIP1                                 206\n",
       "VNST                                    38\n",
       "VehBCost                              2244\n",
       "IsOnlineSale                             2\n",
       "WarrantyCost                           293\n",
       "dtype: int64"
      ]
     },
     "execution_count": 11,
     "metadata": {},
     "output_type": "execute_result"
    }
   ],
   "source": [
    "X.apply(lambda x: x.nunique()) #number of levels for categorical features"
   ]
  },
  {
   "cell_type": "markdown",
   "metadata": {},
   "source": [
    "# Feature Engineering"
   ]
  },
  {
   "cell_type": "code",
   "execution_count": 16,
   "metadata": {
    "collapsed": false
   },
   "outputs": [
    {
     "data": {
      "text/html": [
       "<div>\n",
       "<table border=\"1\" class=\"dataframe\">\n",
       "  <thead>\n",
       "    <tr style=\"text-align: right;\">\n",
       "      <th></th>\n",
       "      <th>ZIP</th>\n",
       "      <th>LAT</th>\n",
       "      <th>LNG</th>\n",
       "    </tr>\n",
       "  </thead>\n",
       "  <tbody>\n",
       "    <tr>\n",
       "      <th>0</th>\n",
       "      <td>601</td>\n",
       "      <td>18.180555</td>\n",
       "      <td>-66.749961</td>\n",
       "    </tr>\n",
       "    <tr>\n",
       "      <th>1</th>\n",
       "      <td>602</td>\n",
       "      <td>18.361945</td>\n",
       "      <td>-67.175597</td>\n",
       "    </tr>\n",
       "    <tr>\n",
       "      <th>2</th>\n",
       "      <td>603</td>\n",
       "      <td>18.455183</td>\n",
       "      <td>-67.119887</td>\n",
       "    </tr>\n",
       "    <tr>\n",
       "      <th>3</th>\n",
       "      <td>606</td>\n",
       "      <td>18.158345</td>\n",
       "      <td>-66.932911</td>\n",
       "    </tr>\n",
       "    <tr>\n",
       "      <th>4</th>\n",
       "      <td>610</td>\n",
       "      <td>18.295366</td>\n",
       "      <td>-67.125135</td>\n",
       "    </tr>\n",
       "  </tbody>\n",
       "</table>\n",
       "</div>"
      ],
      "text/plain": [
       "   ZIP        LAT        LNG\n",
       "0  601  18.180555 -66.749961\n",
       "1  602  18.361945 -67.175597\n",
       "2  603  18.455183 -67.119887\n",
       "3  606  18.158345 -66.932911\n",
       "4  610  18.295366 -67.125135"
      ]
     },
     "execution_count": 16,
     "metadata": {},
     "output_type": "execute_result"
    }
   ],
   "source": [
    "ziploc=pd.read_csv(os.path.join(locpath, \"zip_lat_lng.csv\")) #external information of longitutde and latitude for zipcode \n",
    "ziploc.head()"
   ]
  },
  {
   "cell_type": "code",
   "execution_count": 17,
   "metadata": {
    "collapsed": true
   },
   "outputs": [],
   "source": [
    "from sklearn import base\n",
    "\n",
    "class ColumnRemover(base.BaseEstimator, base.TransformerMixin): # remove useless features (too many categorical levels or redundant)\n",
    "    \n",
    "    def __init__(self, col_names=[\"WheelType\",\"BYRNO\",\"SubModel\"]):\n",
    "        self.col_names = col_names\n",
    "    \n",
    "    def fit(self, X, y=None):\n",
    "        return self\n",
    "    \n",
    "    def transform(self, X):\n",
    "        return X.drop(self.col_names, axis=1)      "
   ]
  },
  {
   "cell_type": "code",
   "execution_count": 18,
   "metadata": {
    "collapsed": true
   },
   "outputs": [],
   "source": [
    "from sklearn.neighbors import KNeighborsRegressor\n",
    "\n",
    "class ZipCodeTransformer(base.BaseEstimator, base.TransformerMixin): #mapping zipcode to longtitude and latitude\n",
    "    \n",
    "    def __init__(self, zipdata):\n",
    "        self.zipdata=zipdata\n",
    "        self.knn1=KNeighborsRegressor(n_neighbors=1,n_jobs=-1)\n",
    "        self.knn2=KNeighborsRegressor(n_neighbors=1,n_jobs=-1)\n",
    "        \n",
    "    \n",
    "    def fit(self, X, y=None):\n",
    "        self.knn1.fit(np.expand_dims(self.zipdata[\"ZIP\"], axis=1), self.zipdata[\"LAT\"])\n",
    "        self.knn2.fit(np.expand_dims(self.zipdata[\"ZIP\"], axis=1), self.zipdata[\"LNG\"])\n",
    "        return self\n",
    "    \n",
    "    def transform(self, X):\n",
    "        lat=pd.DataFrame(self.knn1.predict(np.expand_dims(X[\"VNZIP1\"], axis=1)), columns=[\"LAT\"], index=X.index.values)\n",
    "        lng=pd.DataFrame(self.knn2.predict(np.expand_dims(X[\"VNZIP1\"], axis=1)), columns=[\"LNG\"], index=X.index.values)\n",
    "        return pd.concat([X.drop(\"VNZIP1\",axis=1),lat,lng], axis=1)"
   ]
  },
  {
   "cell_type": "code",
   "execution_count": 19,
   "metadata": {
    "collapsed": false
   },
   "outputs": [],
   "source": [
    "from datetime import datetime\n",
    "\n",
    "class DateTransformer(base.BaseEstimator, base.TransformerMixin): #calibrate date to number of days\n",
    "    \n",
    "    def __init__(self, cal_date=\"1/1/2005\"):\n",
    "        self.cal_date=cal_date\n",
    "    \n",
    "    def fit(self, X, y=None):\n",
    "        return self\n",
    "    \n",
    "    def transform(self, X):\n",
    "        try:\n",
    "            X[\"PurchDays\"]=X[\"PurchDate\"].apply(lambda x: (datetime.strptime(x, \"%m/%d/%Y\")-datetime.strptime(self.cal_date, \"%m/%d/%Y\")).days)\n",
    "        except:\n",
    "            print(X[\"PurchDate\"])\n",
    "        return X.drop(\"PurchDate\", axis=1)"
   ]
  },
  {
   "cell_type": "code",
   "execution_count": 20,
   "metadata": {
    "collapsed": true
   },
   "outputs": [],
   "source": [
    "class CategoryFeatureTransformer(base.BaseEstimator, base.TransformerMixin):\n",
    "    def __init__(self, col_names, percentage=0.15): #reduce number of levels by combining rare categories\n",
    "        self.percentage=percentage\n",
    "        self.col_names=col_names\n",
    "        \n",
    "    def fit(self, X, y=None):\n",
    "        self.removed_cat_={}\n",
    "        for col in self.col_names:\n",
    "            s=X[col].value_counts(normalize=True, ascending=True)\n",
    "            total=0\n",
    "            self.removed_cat_[col]=[]\n",
    "            for i, v in s.iteritems():\n",
    "                total+=v\n",
    "                if total>self.percentage:\n",
    "                    break\n",
    "                self.removed_cat_[col].append(i)\n",
    "        return self\n",
    "    \n",
    "    def transform(self, X):\n",
    "        for col in self.col_names:\n",
    "            for cat in self.removed_cat_[col]: \n",
    "                X.loc[X[col]==cat, col]=\"OTHER\"\n",
    "        return X"
   ]
  },
  {
   "cell_type": "code",
   "execution_count": 21,
   "metadata": {
    "collapsed": true
   },
   "outputs": [],
   "source": [
    "class PriceTransformer(base.BaseEstimator, base.TransformerMixin): #generate more features from price features\n",
    "    \n",
    "    def __init__(self):\n",
    "        pass\n",
    "    \n",
    "    def fit(self, X, y=None):\n",
    "        return self\n",
    "    \n",
    "    def transform(self, X):\n",
    "        X[\"MMRAcquisitionAuctionAveragePriceRatio\"]=X[\"MMRAcquisitionAuctionAveragePrice\"]/X[\"VehBCost\"]\n",
    "        X[\"MMRAcquisitionAuctionCleanPriceRatio\"]=X[\"MMRAcquisitionAuctionCleanPrice\"]/X[\"VehBCost\"]\n",
    "        X[\"MMRAcquisitionRetailAveragePriceRatio\"]=X[\"MMRAcquisitionRetailAveragePrice\"]/X[\"VehBCost\"]\n",
    "        X[\"MMRAcquisitonRetailCleanPriceRatio\"]=X[\"MMRAcquisitonRetailCleanPrice\"]/X[\"VehBCost\"]\n",
    "        X[\"MMRCurrentAuctionAveragePriceRatio\"]=X[\"MMRCurrentAuctionAveragePrice\"]/X[\"VehBCost\"]\n",
    "        X[\"MMRCurrentAuctionCleanPriceRatio\"]=X[\"MMRCurrentAuctionCleanPrice\"]/X[\"VehBCost\"]\n",
    "        X[\"MMRCurrentRetailAveragePriceRatio\"]=X[\"MMRCurrentRetailAveragePrice\"]/X[\"VehBCost\"]\n",
    "        X[\"MMRCurrentRetailCleanPriceRatio\"]=X[\"MMRCurrentRetailCleanPrice\"]/X[\"VehBCost\"]\n",
    "        X[\"MMRAuctionCurrentAcquisitionRatio\"]=(X[\"MMRCurrentAuctionAveragePrice\"]+X[\"MMRCurrentAuctionCleanPrice\"])/(X[\"MMRAcquisitionAuctionAveragePrice\"]+X[\"MMRAcquisitionAuctionCleanPrice\"])\n",
    "        X[\"MMRRetailCurrentAcquisitionRatio\"]=(X[\"MMRCurrentRetailAveragePrice\"]+X[\"MMRCurrentRetailCleanPrice\"])/(X[\"MMRAcquisitionRetailAveragePrice\"]+X['MMRAcquisitonRetailCleanPrice'])\n",
    "        X[\"MMRCurrentRetailAuctionRatio\"]=(X[\"MMRCurrentRetailAveragePrice\"]+X[\"MMRCurrentRetailCleanPrice\"])/(X[\"MMRCurrentAuctionAveragePrice\"]+X[\"MMRCurrentAuctionCleanPrice\"])\n",
    "        X[\"MMRAcquisitionRetailAuctionRatio\"]=(X[\"MMRAcquisitionRetailAveragePrice\"]+X['MMRAcquisitonRetailCleanPrice'])/(X[\"MMRAcquisitionAuctionAveragePrice\"]+X[\"MMRAcquisitionAuctionCleanPrice\"])\n",
    "        return pd.get_dummies(X)"
   ]
  },
  {
   "cell_type": "code",
   "execution_count": 22,
   "metadata": {
    "collapsed": false
   },
   "outputs": [],
   "source": [
    "cr=ColumnRemover()\n",
    "zr=ZipCodeTransformer(zipdata=ziploc)\n",
    "dt=DateTransformer()\n",
    "pt=PriceTransformer()\n",
    "cft=CategoryFeatureTransformer(col_names=[\"Model\",\"Trim\"])\n",
    "trans_X=pt.fit_transform(cft.fit_transform(dt.fit_transform(zr.fit_transform(cr.fit_transform(X)))))"
   ]
  },
  {
   "cell_type": "code",
   "execution_count": 23,
   "metadata": {
    "collapsed": false
   },
   "outputs": [
    {
     "data": {
      "text/plain": [
       "(121690, 365)"
      ]
     },
     "execution_count": 23,
     "metadata": {},
     "output_type": "execute_result"
    }
   ],
   "source": [
    "trans_X.shape"
   ]
  },
  {
   "cell_type": "code",
   "execution_count": 24,
   "metadata": {
    "collapsed": false
   },
   "outputs": [
    {
     "data": {
      "text/plain": [
       "(72983, 365)"
      ]
     },
     "execution_count": 24,
     "metadata": {},
     "output_type": "execute_result"
    }
   ],
   "source": [
    "trans_train=trans_X.iloc[0:train.shape[0]]\n",
    "trans_train.shape"
   ]
  },
  {
   "cell_type": "code",
   "execution_count": 25,
   "metadata": {
    "collapsed": false
   },
   "outputs": [
    {
     "data": {
      "text/html": [
       "<div>\n",
       "<table border=\"1\" class=\"dataframe\">\n",
       "  <thead>\n",
       "    <tr style=\"text-align: right;\">\n",
       "      <th></th>\n",
       "      <th>VehYear</th>\n",
       "      <th>VehicleAge</th>\n",
       "      <th>WheelTypeID</th>\n",
       "      <th>VehOdo</th>\n",
       "      <th>MMRAcquisitionAuctionAveragePrice</th>\n",
       "      <th>MMRAcquisitionAuctionCleanPrice</th>\n",
       "      <th>MMRAcquisitionRetailAveragePrice</th>\n",
       "      <th>MMRAcquisitonRetailCleanPrice</th>\n",
       "      <th>MMRCurrentAuctionAveragePrice</th>\n",
       "      <th>MMRCurrentAuctionCleanPrice</th>\n",
       "      <th>...</th>\n",
       "      <th>VNST_OR</th>\n",
       "      <th>VNST_PA</th>\n",
       "      <th>VNST_SC</th>\n",
       "      <th>VNST_TN</th>\n",
       "      <th>VNST_TX</th>\n",
       "      <th>VNST_UT</th>\n",
       "      <th>VNST_VA</th>\n",
       "      <th>VNST_WA</th>\n",
       "      <th>VNST_WI</th>\n",
       "      <th>VNST_WV</th>\n",
       "    </tr>\n",
       "    <tr>\n",
       "      <th>RefId</th>\n",
       "      <th></th>\n",
       "      <th></th>\n",
       "      <th></th>\n",
       "      <th></th>\n",
       "      <th></th>\n",
       "      <th></th>\n",
       "      <th></th>\n",
       "      <th></th>\n",
       "      <th></th>\n",
       "      <th></th>\n",
       "      <th></th>\n",
       "      <th></th>\n",
       "      <th></th>\n",
       "      <th></th>\n",
       "      <th></th>\n",
       "      <th></th>\n",
       "      <th></th>\n",
       "      <th></th>\n",
       "      <th></th>\n",
       "      <th></th>\n",
       "      <th></th>\n",
       "    </tr>\n",
       "  </thead>\n",
       "  <tbody>\n",
       "    <tr>\n",
       "      <th>1</th>\n",
       "      <td>2006</td>\n",
       "      <td>3</td>\n",
       "      <td>1.0</td>\n",
       "      <td>89046</td>\n",
       "      <td>8155.0</td>\n",
       "      <td>9829.0</td>\n",
       "      <td>11636.0</td>\n",
       "      <td>13600.0</td>\n",
       "      <td>7451.0</td>\n",
       "      <td>8552.0</td>\n",
       "      <td>...</td>\n",
       "      <td>0</td>\n",
       "      <td>0</td>\n",
       "      <td>0</td>\n",
       "      <td>0</td>\n",
       "      <td>0</td>\n",
       "      <td>0</td>\n",
       "      <td>0</td>\n",
       "      <td>0</td>\n",
       "      <td>0</td>\n",
       "      <td>0</td>\n",
       "    </tr>\n",
       "    <tr>\n",
       "      <th>2</th>\n",
       "      <td>2004</td>\n",
       "      <td>5</td>\n",
       "      <td>1.0</td>\n",
       "      <td>93593</td>\n",
       "      <td>6854.0</td>\n",
       "      <td>8383.0</td>\n",
       "      <td>10897.0</td>\n",
       "      <td>12572.0</td>\n",
       "      <td>7456.0</td>\n",
       "      <td>9222.0</td>\n",
       "      <td>...</td>\n",
       "      <td>0</td>\n",
       "      <td>0</td>\n",
       "      <td>0</td>\n",
       "      <td>0</td>\n",
       "      <td>0</td>\n",
       "      <td>0</td>\n",
       "      <td>0</td>\n",
       "      <td>0</td>\n",
       "      <td>0</td>\n",
       "      <td>0</td>\n",
       "    </tr>\n",
       "    <tr>\n",
       "      <th>3</th>\n",
       "      <td>2005</td>\n",
       "      <td>4</td>\n",
       "      <td>2.0</td>\n",
       "      <td>73807</td>\n",
       "      <td>3202.0</td>\n",
       "      <td>4760.0</td>\n",
       "      <td>6943.0</td>\n",
       "      <td>8457.0</td>\n",
       "      <td>4035.0</td>\n",
       "      <td>5557.0</td>\n",
       "      <td>...</td>\n",
       "      <td>0</td>\n",
       "      <td>0</td>\n",
       "      <td>0</td>\n",
       "      <td>0</td>\n",
       "      <td>0</td>\n",
       "      <td>0</td>\n",
       "      <td>0</td>\n",
       "      <td>0</td>\n",
       "      <td>0</td>\n",
       "      <td>0</td>\n",
       "    </tr>\n",
       "    <tr>\n",
       "      <th>4</th>\n",
       "      <td>2004</td>\n",
       "      <td>5</td>\n",
       "      <td>1.0</td>\n",
       "      <td>65617</td>\n",
       "      <td>1893.0</td>\n",
       "      <td>2675.0</td>\n",
       "      <td>4658.0</td>\n",
       "      <td>5690.0</td>\n",
       "      <td>1844.0</td>\n",
       "      <td>2646.0</td>\n",
       "      <td>...</td>\n",
       "      <td>0</td>\n",
       "      <td>0</td>\n",
       "      <td>0</td>\n",
       "      <td>0</td>\n",
       "      <td>0</td>\n",
       "      <td>0</td>\n",
       "      <td>0</td>\n",
       "      <td>0</td>\n",
       "      <td>0</td>\n",
       "      <td>0</td>\n",
       "    </tr>\n",
       "    <tr>\n",
       "      <th>5</th>\n",
       "      <td>2005</td>\n",
       "      <td>4</td>\n",
       "      <td>2.0</td>\n",
       "      <td>69367</td>\n",
       "      <td>3913.0</td>\n",
       "      <td>5054.0</td>\n",
       "      <td>7723.0</td>\n",
       "      <td>8707.0</td>\n",
       "      <td>3247.0</td>\n",
       "      <td>4384.0</td>\n",
       "      <td>...</td>\n",
       "      <td>0</td>\n",
       "      <td>0</td>\n",
       "      <td>0</td>\n",
       "      <td>0</td>\n",
       "      <td>0</td>\n",
       "      <td>0</td>\n",
       "      <td>0</td>\n",
       "      <td>0</td>\n",
       "      <td>0</td>\n",
       "      <td>0</td>\n",
       "    </tr>\n",
       "  </tbody>\n",
       "</table>\n",
       "<p>5 rows × 365 columns</p>\n",
       "</div>"
      ],
      "text/plain": [
       "       VehYear  VehicleAge  WheelTypeID  VehOdo  \\\n",
       "RefId                                             \n",
       "1         2006           3          1.0   89046   \n",
       "2         2004           5          1.0   93593   \n",
       "3         2005           4          2.0   73807   \n",
       "4         2004           5          1.0   65617   \n",
       "5         2005           4          2.0   69367   \n",
       "\n",
       "       MMRAcquisitionAuctionAveragePrice  MMRAcquisitionAuctionCleanPrice  \\\n",
       "RefId                                                                       \n",
       "1                                 8155.0                           9829.0   \n",
       "2                                 6854.0                           8383.0   \n",
       "3                                 3202.0                           4760.0   \n",
       "4                                 1893.0                           2675.0   \n",
       "5                                 3913.0                           5054.0   \n",
       "\n",
       "       MMRAcquisitionRetailAveragePrice  MMRAcquisitonRetailCleanPrice  \\\n",
       "RefId                                                                    \n",
       "1                               11636.0                        13600.0   \n",
       "2                               10897.0                        12572.0   \n",
       "3                                6943.0                         8457.0   \n",
       "4                                4658.0                         5690.0   \n",
       "5                                7723.0                         8707.0   \n",
       "\n",
       "       MMRCurrentAuctionAveragePrice  MMRCurrentAuctionCleanPrice   ...     \\\n",
       "RefId                                                               ...      \n",
       "1                             7451.0                       8552.0   ...      \n",
       "2                             7456.0                       9222.0   ...      \n",
       "3                             4035.0                       5557.0   ...      \n",
       "4                             1844.0                       2646.0   ...      \n",
       "5                             3247.0                       4384.0   ...      \n",
       "\n",
       "       VNST_OR  VNST_PA  VNST_SC  VNST_TN  VNST_TX  VNST_UT  VNST_VA  VNST_WA  \\\n",
       "RefId                                                                           \n",
       "1            0        0        0        0        0        0        0        0   \n",
       "2            0        0        0        0        0        0        0        0   \n",
       "3            0        0        0        0        0        0        0        0   \n",
       "4            0        0        0        0        0        0        0        0   \n",
       "5            0        0        0        0        0        0        0        0   \n",
       "\n",
       "       VNST_WI  VNST_WV  \n",
       "RefId                    \n",
       "1            0        0  \n",
       "2            0        0  \n",
       "3            0        0  \n",
       "4            0        0  \n",
       "5            0        0  \n",
       "\n",
       "[5 rows x 365 columns]"
      ]
     },
     "execution_count": 25,
     "metadata": {},
     "output_type": "execute_result"
    }
   ],
   "source": [
    "trans_train.head()"
   ]
  },
  {
   "cell_type": "markdown",
   "metadata": {},
   "source": [
    "# Xgboosting Training with Parameter Tuning"
   ]
  },
  {
   "cell_type": "code",
   "execution_count": 115,
   "metadata": {
    "collapsed": false
   },
   "outputs": [
    {
     "name": "stdout",
     "output_type": "stream",
     "text": [
      "\n",
      "Model Report\n",
      "Accuracy : 0.7994\n",
      "AUC Score (Train): 0.863701\n"
     ]
    }
   ],
   "source": [
    "import matplotlib.pylab as plt\n",
    "%matplotlib inline\n",
    "from matplotlib.pylab import rcParams\n",
    "rcParams['figure.figsize'] = 12, 4\n",
    "import xgboost as xgb\n",
    "from sklearn import metrics\n",
    "\n",
    "def modelfit(alg, dtrain, target, useTrainCV=True, cv_folds=5, early_stopping_rounds=50):\n",
    "    \n",
    "    if useTrainCV:\n",
    "        xgb_param = alg.get_xgb_params()\n",
    "        xgtrain = xgb.DMatrix(dtrain.values, label=target.values)\n",
    "        cvresult = xgb.cv(xgb_param, xgtrain, num_boost_round=alg.get_params()['n_estimators'], nfold=cv_folds,\n",
    "            metrics='auc', early_stopping_rounds=early_stopping_rounds, show_stdv=True)\n",
    "        alg.set_params(n_estimators=cvresult.shape[0])\n",
    "    \n",
    "    alg.fit(dtrain.values, target.values ,eval_metric='auc')\n",
    "        \n",
    "    dtrain_predictions = alg.predict(dtrain.values)\n",
    "    dtrain_predprob = alg.predict_proba(dtrain.values)[:,1]\n",
    "        \n",
    "    print(\"\\nModel Report\")\n",
    "    print(\"Accuracy : %.4g\" % metrics.accuracy_score(target, dtrain_predictions))\n",
    "    print(\"AUC Score (Train): %f\" % metrics.roc_auc_score(target, dtrain_predprob))\n",
    "    return cvresult\n",
    "    \n",
    "xgb0 = xgb.XGBClassifier(\n",
    " learning_rate =0.1,\n",
    " n_estimators=1000,\n",
    " max_depth=5,\n",
    " min_child_weight=1,\n",
    " gamma=0,\n",
    " subsample=0.8,\n",
    " colsample_bytree=0.8,\n",
    " objective= 'binary:logistic',\n",
    " nthread=4,\n",
    " scale_pos_weight=1,\n",
    " seed=27)\n",
    "cvr=modelfit(xgb0, trans_train, y)"
   ]
  },
  {
   "cell_type": "code",
   "execution_count": 116,
   "metadata": {
    "collapsed": false
   },
   "outputs": [
    {
     "data": {
      "text/html": [
       "<div>\n",
       "<table border=\"1\" class=\"dataframe\">\n",
       "  <thead>\n",
       "    <tr style=\"text-align: right;\">\n",
       "      <th></th>\n",
       "      <th>test-auc-mean</th>\n",
       "      <th>test-auc-std</th>\n",
       "      <th>train-auc-mean</th>\n",
       "      <th>train-auc-std</th>\n",
       "    </tr>\n",
       "  </thead>\n",
       "  <tbody>\n",
       "    <tr>\n",
       "      <th>161</th>\n",
       "      <td>0.788044</td>\n",
       "      <td>0.004039</td>\n",
       "      <td>0.873588</td>\n",
       "      <td>0.001384</td>\n",
       "    </tr>\n",
       "  </tbody>\n",
       "</table>\n",
       "</div>"
      ],
      "text/plain": [
       "     test-auc-mean  test-auc-std  train-auc-mean  train-auc-std\n",
       "161       0.788044      0.004039        0.873588       0.001384"
      ]
     },
     "execution_count": 116,
     "metadata": {},
     "output_type": "execute_result"
    }
   ],
   "source": [
    "cvr.iloc[[-1]]"
   ]
  },
  {
   "cell_type": "code",
   "execution_count": 118,
   "metadata": {
    "collapsed": false
   },
   "outputs": [
    {
     "name": "stdout",
     "output_type": "stream",
     "text": [
      "3\n",
      "     test-auc-mean  test-auc-std  train-auc-mean  train-auc-std\n",
      "323       0.786698      0.002579        0.844435       0.001538\n",
      "4\n",
      "     test-auc-mean  test-auc-std  train-auc-mean  train-auc-std\n",
      "192       0.787487      0.003531        0.855276       0.001114\n",
      "6\n",
      "    test-auc-mean  test-auc-std  train-auc-mean  train-auc-std\n",
      "87       0.786102      0.004289        0.877464       0.001481\n",
      "8\n",
      "    test-auc-mean  test-auc-std  train-auc-mean  train-auc-std\n",
      "81       0.783261      0.001362         0.93801       0.000573\n"
     ]
    }
   ],
   "source": [
    "def modelfit(alg, dtrain, target, useTrainCV=True, cv_folds=3, early_stopping_rounds=50):\n",
    "    \n",
    "    if useTrainCV:\n",
    "        xgb_param = alg.get_xgb_params()\n",
    "        xgtrain = xgb.DMatrix(dtrain.values, label=target.values)\n",
    "        cvresult = xgb.cv(xgb_param, xgtrain, num_boost_round=alg.get_params()['n_estimators'], nfold=cv_folds,\n",
    "            metrics='auc', early_stopping_rounds=early_stopping_rounds, show_stdv=True)\n",
    "        print(cvresult.iloc[[-1]])\n",
    "\n",
    "for i in [3,4,6,8]:\n",
    "    xgb0 = xgb.XGBClassifier(learning_rate =0.1, n_estimators=1000, max_depth=i, min_child_weight=1, gamma=0, subsample=0.8, colsample_bytree=0.8, objective= 'binary:logistic', nthread=4, scale_pos_weight=sum(y==0)/sum(y==1), seed=27)\n",
    "    print(i)\n",
    "    modelfit(xgb0, trans_train, y)"
   ]
  },
  {
   "cell_type": "code",
   "execution_count": 91,
   "metadata": {
    "collapsed": false
   },
   "outputs": [
    {
     "name": "stdout",
     "output_type": "stream",
     "text": [
      "4\n",
      "     test-auc-mean  test-auc-std  train-auc-mean  train-auc-std\n",
      "292        0.79007      0.003252        0.873813       0.001217\n",
      "5\n",
      "     test-auc-mean  test-auc-std  train-auc-mean  train-auc-std\n",
      "168       0.790223      0.003327        0.876662       0.001977\n",
      "6\n",
      "     test-auc-mean  test-auc-std  train-auc-mean  train-auc-std\n",
      "141       0.789634      0.003438        0.900698       0.002173\n"
     ]
    }
   ],
   "source": [
    "def modelfit(alg, dtrain, target, useTrainCV=True, cv_folds=3, early_stopping_rounds=50):\n",
    "    \n",
    "    if useTrainCV:\n",
    "        xgb_param = alg.get_xgb_params()\n",
    "        xgtrain = xgb.DMatrix(dtrain.values, label=target.values)\n",
    "        cvresult = xgb.cv(xgb_param, xgtrain, num_boost_round=alg.get_params()['n_estimators'], nfold=cv_folds,\n",
    "            metrics='auc', early_stopping_rounds=early_stopping_rounds, show_stdv=True)\n",
    "        print(cvresult.iloc[[-1]])\n",
    "\n",
    "for i in [4,5,6]:\n",
    "    xgb0 = xgb.XGBClassifier(learning_rate =0.1, n_estimators=1000, max_depth=i, min_child_weight=1, gamma=0, subsample=0.8, colsample_bytree=0.8, objective= 'binary:logistic', nthread=4, scale_pos_weight=1, seed=27)\n",
    "    print(i)\n",
    "    modelfit(xgb0, trans_train, y)"
   ]
  },
  {
   "cell_type": "code",
   "execution_count": 93,
   "metadata": {
    "collapsed": false
   },
   "outputs": [
    {
     "name": "stdout",
     "output_type": "stream",
     "text": [
      "5\n",
      "     test-auc-mean  test-auc-std  train-auc-mean  train-auc-std\n",
      "189       0.790057      0.004067        0.868578       0.000591\n",
      "10\n",
      "     test-auc-mean  test-auc-std  train-auc-mean  train-auc-std\n",
      "198       0.789354      0.004208        0.868077       0.000842\n",
      "50\n",
      "     test-auc-mean  test-auc-std  train-auc-mean  train-auc-std\n",
      "162       0.787671       0.00326        0.837594       0.001523\n"
     ]
    }
   ],
   "source": [
    "def modelfit(alg, dtrain, target, useTrainCV=True, cv_folds=3, early_stopping_rounds=50):\n",
    "    \n",
    "    if useTrainCV:\n",
    "        xgb_param = alg.get_xgb_params()\n",
    "        xgtrain = xgb.DMatrix(dtrain.values, label=target.values)\n",
    "        cvresult = xgb.cv(xgb_param, xgtrain, num_boost_round=alg.get_params()['n_estimators'], nfold=cv_folds,\n",
    "            metrics='auc', early_stopping_rounds=early_stopping_rounds, show_stdv=True)\n",
    "        print(cvresult.iloc[[-1]])\n",
    "\n",
    "for i in [5, 10, 50]:\n",
    "    xgb0 = xgb.XGBClassifier(learning_rate =0.1, n_estimators=1000, max_depth=5, min_child_weight=i, gamma=0, subsample=0.8, colsample_bytree=0.8, objective= 'binary:logistic', nthread=4, scale_pos_weight=1, seed=27)\n",
    "    print(i)\n",
    "    modelfit(xgb0, trans_train, y)"
   ]
  },
  {
   "cell_type": "code",
   "execution_count": 94,
   "metadata": {
    "collapsed": false
   },
   "outputs": [
    {
     "name": "stdout",
     "output_type": "stream",
     "text": [
      "2\n",
      "     test-auc-mean  test-auc-std  train-auc-mean  train-auc-std\n",
      "157       0.790445      0.003593        0.868772       0.000905\n",
      "3\n",
      "     test-auc-mean  test-auc-std  train-auc-mean  train-auc-std\n",
      "191       0.789514      0.004245        0.875241        0.00159\n",
      "4\n",
      "     test-auc-mean  test-auc-std  train-auc-mean  train-auc-std\n",
      "168       0.789434      0.004096        0.865142       0.002263\n"
     ]
    }
   ],
   "source": [
    "def modelfit(alg, dtrain, target, useTrainCV=True, cv_folds=3, early_stopping_rounds=50):\n",
    "    \n",
    "    if useTrainCV:\n",
    "        xgb_param = alg.get_xgb_params()\n",
    "        xgtrain = xgb.DMatrix(dtrain.values, label=target.values)\n",
    "        cvresult = xgb.cv(xgb_param, xgtrain, num_boost_round=alg.get_params()['n_estimators'], nfold=cv_folds,\n",
    "            metrics='auc', early_stopping_rounds=early_stopping_rounds, show_stdv=True)\n",
    "        print(cvresult.iloc[[-1]])\n",
    "\n",
    "for i in [2,3,4]:\n",
    "    xgb0 = xgb.XGBClassifier(learning_rate =0.1, n_estimators=1000, max_depth=5, min_child_weight=i, gamma=0, subsample=0.8, colsample_bytree=0.8, objective= 'binary:logistic', nthread=4, scale_pos_weight=1, seed=27)\n",
    "    print(i)\n",
    "    modelfit(xgb0, trans_train, y)"
   ]
  },
  {
   "cell_type": "code",
   "execution_count": 95,
   "metadata": {
    "collapsed": false
   },
   "outputs": [
    {
     "name": "stdout",
     "output_type": "stream",
     "text": [
      "0.01\n",
      "     test-auc-mean  test-auc-std  train-auc-mean  train-auc-std\n",
      "157       0.791107      0.002825        0.868824       0.000974\n",
      "0.1\n",
      "     test-auc-mean  test-auc-std  train-auc-mean  train-auc-std\n",
      "169       0.790142      0.003765        0.872701       0.001961\n",
      "1\n",
      "     test-auc-mean  test-auc-std  train-auc-mean  train-auc-std\n",
      "158       0.789754       0.00253        0.868591       0.001594\n"
     ]
    }
   ],
   "source": [
    "for i in [0.01, 0.1, 1]:\n",
    "    xgb0 = xgb.XGBClassifier(learning_rate =0.1, n_estimators=1000, max_depth=5, min_child_weight=2, gamma=i, subsample=0.8, colsample_bytree=0.8, objective= 'binary:logistic', nthread=4, scale_pos_weight=1, seed=27)\n",
    "    print(i)\n",
    "    modelfit(xgb0, trans_train, y)"
   ]
  },
  {
   "cell_type": "code",
   "execution_count": 96,
   "metadata": {
    "collapsed": false
   },
   "outputs": [
    {
     "name": "stdout",
     "output_type": "stream",
     "text": [
      "0.0005\n",
      "     test-auc-mean  test-auc-std  train-auc-mean  train-auc-std\n",
      "157       0.790445      0.003593        0.868772       0.000905\n",
      "0.005\n",
      "     test-auc-mean  test-auc-std  train-auc-mean  train-auc-std\n",
      "157       0.790445      0.003593        0.868772       0.000905\n",
      "0.05\n",
      "     test-auc-mean  test-auc-std  train-auc-mean  train-auc-std\n",
      "162        0.79033      0.001695        0.870278       0.001006\n"
     ]
    }
   ],
   "source": [
    "for i in [0.0005, 0.005, 0.05]:\n",
    "    xgb0 = xgb.XGBClassifier(learning_rate =0.1, n_estimators=1000, max_depth=5, min_child_weight=2, gamma=i, subsample=0.8, colsample_bytree=0.8, objective= 'binary:logistic', nthread=4, scale_pos_weight=1, seed=27)\n",
    "    print(i)\n",
    "    modelfit(xgb0, trans_train, y)"
   ]
  },
  {
   "cell_type": "code",
   "execution_count": 97,
   "metadata": {
    "collapsed": false
   },
   "outputs": [
    {
     "name": "stdout",
     "output_type": "stream",
     "text": [
      "0.6\n",
      "     test-auc-mean  test-auc-std  train-auc-mean  train-auc-std\n",
      "151       0.787981      0.002847        0.867789       0.000409\n",
      "0.7\n",
      "     test-auc-mean  test-auc-std  train-auc-mean  train-auc-std\n",
      "168       0.789705      0.002784        0.872874       0.001646\n",
      "0.9\n",
      "     test-auc-mean  test-auc-std  train-auc-mean  train-auc-std\n",
      "160       0.790659       0.00295        0.869992       0.001622\n",
      "1\n",
      "     test-auc-mean  test-auc-std  train-auc-mean  train-auc-std\n",
      "154       0.789265      0.003762        0.863794       0.001857\n"
     ]
    }
   ],
   "source": [
    "for i in [0.6, 0.7, 0.9, 1]:\n",
    "    xgb0 = xgb.XGBClassifier(learning_rate =0.1, n_estimators=1000, max_depth=5, min_child_weight=2, gamma=0.01, subsample=i, colsample_bytree=0.8, objective= 'binary:logistic', nthread=4, scale_pos_weight=1, seed=27)\n",
    "    print(i)\n",
    "    modelfit(xgb0, trans_train, y)"
   ]
  },
  {
   "cell_type": "code",
   "execution_count": 98,
   "metadata": {
    "collapsed": false
   },
   "outputs": [
    {
     "name": "stdout",
     "output_type": "stream",
     "text": [
      "0.6\n",
      "     test-auc-mean  test-auc-std  train-auc-mean  train-auc-std\n",
      "161       0.790362      0.002741        0.867789       0.001396\n",
      "0.7\n",
      "     test-auc-mean  test-auc-std  train-auc-mean  train-auc-std\n",
      "168       0.790161      0.003829        0.871649       0.001221\n",
      "0.9\n",
      "     test-auc-mean  test-auc-std  train-auc-mean  train-auc-std\n",
      "163       0.790993      0.003191        0.871683       0.001383\n",
      "1\n",
      "     test-auc-mean  test-auc-std  train-auc-mean  train-auc-std\n",
      "163       0.789324       0.00392        0.872908        0.00197\n"
     ]
    }
   ],
   "source": [
    "for i in [0.6, 0.7, 0.9, 1]:\n",
    "    xgb0 = xgb.XGBClassifier(learning_rate =0.1, n_estimators=1000, max_depth=5, min_child_weight=2, gamma=0.01, subsample=0.8, colsample_bytree=i, objective= 'binary:logistic', nthread=4, scale_pos_weight=1, seed=27)\n",
    "    print(i)\n",
    "    modelfit(xgb0, trans_train, y)"
   ]
  },
  {
   "cell_type": "code",
   "execution_count": 99,
   "metadata": {
    "collapsed": false
   },
   "outputs": [
    {
     "name": "stdout",
     "output_type": "stream",
     "text": [
      "0.0001\n",
      "     test-auc-mean  test-auc-std  train-auc-mean  train-auc-std\n",
      "185       0.791221      0.003206        0.878485        0.00118\n",
      "0.01\n",
      "     test-auc-mean  test-auc-std  train-auc-mean  train-auc-std\n",
      "154       0.789602      0.002782        0.867797       0.001556\n",
      "0.1\n",
      "     test-auc-mean  test-auc-std  train-auc-mean  train-auc-std\n",
      "168       0.790517      0.003524         0.87279       0.001353\n",
      "1\n",
      "     test-auc-mean  test-auc-std  train-auc-mean  train-auc-std\n",
      "164       0.789996      0.004135        0.871454       0.000592\n",
      "10\n",
      "     test-auc-mean  test-auc-std  train-auc-mean  train-auc-std\n",
      "206       0.789874      0.003967        0.865829       0.001193\n"
     ]
    }
   ],
   "source": [
    "for i in [0.0001, 0.01, 0.1, 1, 10]:\n",
    "    xgb0 = xgb.XGBClassifier(learning_rate =0.1, n_estimators=1000, max_depth=5, min_child_weight=2, gamma=0.01, subsample=0.8, colsample_bytree=0.8, objective= 'binary:logistic', nthread=4, scale_pos_weight=1, seed=27, reg_alpha=i)\n",
    "    print(i)\n",
    "    modelfit(xgb0, trans_train, y)"
   ]
  },
  {
   "cell_type": "code",
   "execution_count": 100,
   "metadata": {
    "collapsed": false
   },
   "outputs": [
    {
     "name": "stdout",
     "output_type": "stream",
     "text": [
      "1e-05\n",
      "     test-auc-mean  test-auc-std  train-auc-mean  train-auc-std\n",
      "157       0.791107      0.002825        0.868824       0.000974\n",
      "0.001\n",
      "     test-auc-mean  test-auc-std  train-auc-mean  train-auc-std\n",
      "157       0.790653      0.002767        0.868161       0.001037\n"
     ]
    }
   ],
   "source": [
    "for i in [0.00001, 0.001]:\n",
    "    xgb0 = xgb.XGBClassifier(learning_rate =0.1, n_estimators=1000, max_depth=5, min_child_weight=2, gamma=0.01, subsample=0.8, colsample_bytree=0.8, objective= 'binary:logistic', nthread=4, scale_pos_weight=1, seed=27, reg_alpha=i)\n",
    "    print(i)\n",
    "    modelfit(xgb0, trans_train, y)"
   ]
  },
  {
   "cell_type": "markdown",
   "metadata": {},
   "source": [
    "#  Ensemble Three Xgboosting Models"
   ]
  },
  {
   "cell_type": "code",
   "execution_count": 122,
   "metadata": {
    "collapsed": false
   },
   "outputs": [
    {
     "name": "stdout",
     "output_type": "stream",
     "text": [
      "\n",
      "Model Report\n",
      "Accuracy : 0.9083\n",
      "AUC Score (Train): 0.868673\n"
     ]
    }
   ],
   "source": [
    "def modelfit(alg, dtrain, target, useTrainCV=True, cv_folds=3, early_stopping_rounds=50):\n",
    "    \n",
    "    if useTrainCV:\n",
    "        xgb_param = alg.get_xgb_params()\n",
    "        xgtrain = xgb.DMatrix(dtrain.values, label=target.values)\n",
    "        cvresult = xgb.cv(xgb_param, xgtrain, num_boost_round=alg.get_params()['n_estimators'], nfold=cv_folds,\n",
    "            metrics='auc', early_stopping_rounds=early_stopping_rounds, show_stdv=True)\n",
    "        alg.set_params(n_estimators=cvresult.shape[0])\n",
    "    \n",
    "    alg.fit(dtrain.values, target.values ,eval_metric='auc')\n",
    "        \n",
    "    dtrain_predictions = alg.predict(dtrain.values)\n",
    "    dtrain_predprob = alg.predict_proba(dtrain.values)[:,1]\n",
    "        \n",
    "    print(\"\\nModel Report\")\n",
    "    print(\"Accuracy : %.4g\" % metrics.accuracy_score(target, dtrain_predictions))\n",
    "    print(\"AUC Score (Train): %f\" % metrics.roc_auc_score(target, dtrain_predprob))\n",
    "    return cvresult\n",
    "    \n",
    "xgb0 = xgb.XGBClassifier(\n",
    " learning_rate =0.01,\n",
    " n_estimators=3000,\n",
    " max_depth=5,\n",
    " min_child_weight=2,\n",
    " gamma=0.01,\n",
    " subsample=0.8,\n",
    " colsample_bytree=0.8,\n",
    " objective= 'binary:logistic',\n",
    " nthread=4,\n",
    " scale_pos_weight=1,\n",
    " reg_alpha=0.0001,\n",
    " seed=27)\n",
    "cvr=modelfit(xgb0, trans_train, y)"
   ]
  },
  {
   "cell_type": "code",
   "execution_count": 104,
   "metadata": {
    "collapsed": false
   },
   "outputs": [
    {
     "name": "stdout",
     "output_type": "stream",
     "text": [
      "\n",
      "Model Report\n",
      "Accuracy : 0.9081\n",
      "AUC Score (Train): 0.865461\n"
     ]
    }
   ],
   "source": [
    "xgb1 = xgb.XGBClassifier(\n",
    " learning_rate =0.01,\n",
    " n_estimators=3000,\n",
    " max_depth=5,\n",
    " min_child_weight=2,\n",
    " gamma=0.01,\n",
    " subsample=0.8,\n",
    " colsample_bytree=0.8,\n",
    " objective= 'binary:logistic',\n",
    " nthread=4,\n",
    " scale_pos_weight=1,\n",
    " reg_alpha=0.0001)\n",
    "cvr=modelfit(xgb1, trans_train, y)"
   ]
  },
  {
   "cell_type": "code",
   "execution_count": 105,
   "metadata": {
    "collapsed": false
   },
   "outputs": [
    {
     "data": {
      "text/html": [
       "<div>\n",
       "<table border=\"1\" class=\"dataframe\">\n",
       "  <thead>\n",
       "    <tr style=\"text-align: right;\">\n",
       "      <th></th>\n",
       "      <th>test-auc-mean</th>\n",
       "      <th>test-auc-std</th>\n",
       "      <th>train-auc-mean</th>\n",
       "      <th>train-auc-std</th>\n",
       "    </tr>\n",
       "  </thead>\n",
       "  <tbody>\n",
       "    <tr>\n",
       "      <th>1955</th>\n",
       "      <td>0.79329</td>\n",
       "      <td>0.003243</td>\n",
       "      <td>0.885786</td>\n",
       "      <td>0.001024</td>\n",
       "    </tr>\n",
       "  </tbody>\n",
       "</table>\n",
       "</div>"
      ],
      "text/plain": [
       "      test-auc-mean  test-auc-std  train-auc-mean  train-auc-std\n",
       "1955        0.79329      0.003243        0.885786       0.001024"
      ]
     },
     "execution_count": 105,
     "metadata": {},
     "output_type": "execute_result"
    }
   ],
   "source": [
    "cvr.iloc[[-1]]"
   ]
  },
  {
   "cell_type": "code",
   "execution_count": 107,
   "metadata": {
    "collapsed": false
   },
   "outputs": [
    {
     "name": "stdout",
     "output_type": "stream",
     "text": [
      "\n",
      "Model Report\n",
      "Accuracy : 0.9079\n",
      "AUC Score (Train): 0.865860\n"
     ]
    }
   ],
   "source": [
    "xgb2 = xgb.XGBClassifier(\n",
    " learning_rate =0.01,\n",
    " n_estimators=3000,\n",
    " max_depth=5,\n",
    " min_child_weight=2,\n",
    " gamma=0.01,\n",
    " subsample=0.8,\n",
    " colsample_bytree=0.8,\n",
    " objective= 'binary:logistic',\n",
    " nthread=4,\n",
    " scale_pos_weight=1,\n",
    " seed=89,\n",
    " reg_alpha=0.0001)\n",
    "cvr=modelfit(xgb2, trans_train, y)"
   ]
  },
  {
   "cell_type": "code",
   "execution_count": 108,
   "metadata": {
    "collapsed": false
   },
   "outputs": [
    {
     "data": {
      "text/html": [
       "<div>\n",
       "<table border=\"1\" class=\"dataframe\">\n",
       "  <thead>\n",
       "    <tr style=\"text-align: right;\">\n",
       "      <th></th>\n",
       "      <th>test-auc-mean</th>\n",
       "      <th>test-auc-std</th>\n",
       "      <th>train-auc-mean</th>\n",
       "      <th>train-auc-std</th>\n",
       "    </tr>\n",
       "  </thead>\n",
       "  <tbody>\n",
       "    <tr>\n",
       "      <th>1963</th>\n",
       "      <td>0.793172</td>\n",
       "      <td>0.003346</td>\n",
       "      <td>0.886578</td>\n",
       "      <td>0.000816</td>\n",
       "    </tr>\n",
       "  </tbody>\n",
       "</table>\n",
       "</div>"
      ],
      "text/plain": [
       "      test-auc-mean  test-auc-std  train-auc-mean  train-auc-std\n",
       "1963       0.793172      0.003346        0.886578       0.000816"
      ]
     },
     "execution_count": 108,
     "metadata": {},
     "output_type": "execute_result"
    }
   ],
   "source": [
    "cvr.iloc[[-1]]"
   ]
  },
  {
   "cell_type": "markdown",
   "metadata": {},
   "source": [
    "# Finding Optimal Threshold and Making Prediction for test data set"
   ]
  },
  {
   "cell_type": "code",
   "execution_count": 109,
   "metadata": {
    "collapsed": false
   },
   "outputs": [
    {
     "data": {
      "text/plain": [
       "[0.1204598]"
      ]
     },
     "execution_count": 109,
     "metadata": {},
     "output_type": "execute_result"
    }
   ],
   "source": [
    "from sklearn.metrics import roc_curve\n",
    "def Find_Optimal_Cutoff(target, predicted):\n",
    "    fpr, tpr, threshold = roc_curve(target, predicted)\n",
    "    i = np.arange(len(tpr)) \n",
    "    roc = pd.DataFrame({'tf' : pd.Series(tpr-(1-fpr), index=i), 'threshold' : pd.Series(threshold, index=i)})\n",
    "    roc_t = roc.ix[(roc.tf-0).abs().argsort()[:1]]\n",
    "\n",
    "    return list(roc_t['threshold'])\n",
    "probs=(xgb0.predict_proba(trans_train.values)[:,1]+xgb1.predict_proba(trans_train.values)[:,1]+xgb2.predict_proba(trans_train.values)[:,1])/3\n",
    "Find_Optimal_Cutoff(y, probs)"
   ]
  },
  {
   "cell_type": "code",
   "execution_count": 123,
   "metadata": {
    "collapsed": false
   },
   "outputs": [],
   "source": [
    "test_probs=(xgb0.predict_proba(trans_X[train.shape[0]:].values)[:,1]+xgb1.predict_proba(trans_X[train.shape[0]:].values)[:,1]+xgb2.predict_proba(trans_X[train.shape[0]:].values)[:,1])/3\n",
    "pd.DataFrame(test_probs, index=trans_X[train.shape[0]:].index.values).to_csv(path_or_buf=os.path.join(locpath, \"prediction.csv\"))"
   ]
  },
  {
   "cell_type": "markdown",
   "metadata": {},
   "source": [
    "# Saving Models"
   ]
  },
  {
   "cell_type": "code",
   "execution_count": 125,
   "metadata": {
    "collapsed": true
   },
   "outputs": [],
   "source": [
    "import pickle\n",
    "pickle.dump(xgb0, open(\"xgb0.dat\", \"wb\"))\n",
    "pickle.dump(xgb1, open(\"xgb1.dat\", \"wb\"))\n",
    "pickle.dump(xgb2, open(\"xgb2.dat\", \"wb\"))"
   ]
  },
  {
   "cell_type": "code",
   "execution_count": null,
   "metadata": {
    "collapsed": true
   },
   "outputs": [],
   "source": []
  }
 ],
 "metadata": {
  "kernelspec": {
   "display_name": "Python 3",
   "language": "python",
   "name": "python3"
  },
  "language_info": {
   "codemirror_mode": {
    "name": "ipython",
    "version": 3
   },
   "file_extension": ".py",
   "mimetype": "text/x-python",
   "name": "python",
   "nbconvert_exporter": "python",
   "pygments_lexer": "ipython3",
   "version": "3.6.0"
  }
 },
 "nbformat": 4,
 "nbformat_minor": 2
}
